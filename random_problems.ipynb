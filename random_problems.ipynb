{
 "cells": [
  {
   "cell_type": "code",
   "execution_count": 5,
   "id": "04ac39a1-93be-44d3-9cd3-27677e686f3e",
   "metadata": {},
   "outputs": [],
   "source": [
    "sentence = \"\"\"Have free hours and love children? \n",
    "Drive kids to school, soccer practice \n",
    "and other activities.\"\"\""
   ]
  },
  {
   "cell_type": "code",
   "execution_count": 6,
   "id": "64a77ce6-6d70-4951-abe2-270bec778c69",
   "metadata": {},
   "outputs": [],
   "source": [
    "wordArray = sentence.split()"
   ]
  },
  {
   "cell_type": "code",
   "execution_count": 7,
   "id": "ed0c6327-2f80-448f-8039-977beff075db",
   "metadata": {},
   "outputs": [
    {
     "data": {
      "text/plain": [
       "['Have',\n",
       " 'free',\n",
       " 'hours',\n",
       " 'and',\n",
       " 'love',\n",
       " 'children?',\n",
       " 'Drive',\n",
       " 'kids',\n",
       " 'to',\n",
       " 'school,',\n",
       " 'soccer',\n",
       " 'practice',\n",
       " 'and',\n",
       " 'other',\n",
       " 'activities.']"
      ]
     },
     "execution_count": 7,
     "metadata": {},
     "output_type": "execute_result"
    }
   ],
   "source": [
    "wordArray"
   ]
  },
  {
   "cell_type": "code",
   "execution_count": 12,
   "id": "07fe2bd6-43d6-4b50-90bd-8da21b31c9b7",
   "metadata": {},
   "outputs": [],
   "source": [
    "bigrams = []\n",
    "for i in range(len(wordArray)-1):\n",
    "    bigrams.append([wordArray[i], wordArray[i+1]])"
   ]
  },
  {
   "cell_type": "code",
   "execution_count": 13,
   "id": "2b4eae5b-64c7-481e-8e24-e0d9166a7c9a",
   "metadata": {},
   "outputs": [
    {
     "data": {
      "text/plain": [
       "[['Have', 'free'],\n",
       " ['free', 'hours'],\n",
       " ['hours', 'and'],\n",
       " ['and', 'love'],\n",
       " ['love', 'children?'],\n",
       " ['children?', 'Drive'],\n",
       " ['Drive', 'kids'],\n",
       " ['kids', 'to'],\n",
       " ['to', 'school,'],\n",
       " ['school,', 'soccer'],\n",
       " ['soccer', 'practice'],\n",
       " ['practice', 'and'],\n",
       " ['and', 'other'],\n",
       " ['other', 'activities.']]"
      ]
     },
     "execution_count": 13,
     "metadata": {},
     "output_type": "execute_result"
    }
   ],
   "source": [
    "bigrams"
   ]
  },
  {
   "cell_type": "code",
   "execution_count": 14,
   "id": "47990f21-132b-4217-9d27-84e06b57dbbd",
   "metadata": {},
   "outputs": [
    {
     "name": "stdout",
     "output_type": "stream",
     "text": [
      "['ab', 'cd', 'e']\n"
     ]
    }
   ],
   "source": [
    "a_string = \"abcde\"\n",
    "\n",
    "split_strings = []\n",
    "n  = 2\n",
    "for index in range(0, len(a_string), n):\n",
    "    split_strings.append(a_string[index : index + n])\n",
    "\n",
    "print(split_strings)"
   ]
  },
  {
   "cell_type": "code",
   "execution_count": 15,
   "id": "1518e9f4-0ba6-4e53-aaf1-cd8126c019c9",
   "metadata": {},
   "outputs": [],
   "source": [
    "lotterynum = 123092\n",
    "stringLotteryNum = str(lotterynum)"
   ]
  },
  {
   "cell_type": "code",
   "execution_count": 18,
   "id": "d3ef5dbe-3ec2-4f21-9c8a-45018fe7f609",
   "metadata": {},
   "outputs": [
    {
     "data": {
      "text/plain": [
       "'123092'"
      ]
     },
     "execution_count": 18,
     "metadata": {},
     "output_type": "execute_result"
    }
   ],
   "source": [
    "stringLotteryNum"
   ]
  },
  {
   "cell_type": "code",
   "execution_count": 20,
   "id": "f75826ef-6c28-4353-93bf-c32519731f95",
   "metadata": {},
   "outputs": [
    {
     "data": {
      "text/plain": [
       "'123'"
      ]
     },
     "execution_count": 20,
     "metadata": {},
     "output_type": "execute_result"
    }
   ],
   "source": [
    "firstHalf = stringLotteryNum[:len(stringLotteryNum)//2]\n",
    "firstHalf"
   ]
  },
  {
   "cell_type": "code",
   "execution_count": 22,
   "id": "f1057d82-533d-43ce-a002-443a56bf6104",
   "metadata": {},
   "outputs": [
    {
     "data": {
      "text/plain": [
       "'092'"
      ]
     },
     "execution_count": 22,
     "metadata": {},
     "output_type": "execute_result"
    }
   ],
   "source": [
    "secondHalf = stringLotteryNum[len(stringLotteryNum)//2:]\n",
    "secondHalf"
   ]
  },
  {
   "cell_type": "code",
   "execution_count": 29,
   "id": "fa4dacdc-9b20-4108-9ab5-b680cb8f8370",
   "metadata": {},
   "outputs": [
    {
     "data": {
      "text/plain": [
       "False"
      ]
     },
     "execution_count": 29,
     "metadata": {},
     "output_type": "execute_result"
    }
   ],
   "source": [
    "firstHalfList = list(map(int, list(firstHalf)))\n",
    "secondHalfList = list(map(int, list(secondHalf)))\n",
    "isLucky = sum(firstHalfList) == sum(secondHalfList)\n",
    "isLucky"
   ]
  },
  {
   "cell_type": "code",
   "execution_count": 33,
   "id": "ad8577fa-4501-4b3e-bc68-5b8e127aa364",
   "metadata": {},
   "outputs": [
    {
     "name": "stdout",
     "output_type": "stream",
     "text": [
      "['123092']\n"
     ]
    },
    {
     "data": {
      "text/plain": [
       "'123'"
      ]
     },
     "execution_count": 33,
     "metadata": {},
     "output_type": "execute_result"
    }
   ],
   "source": [
    "listStrLottery = [stringLotteryNum]\n",
    "print(listStrLottery)\n",
    "stringLotteryNum[0:3]"
   ]
  },
  {
   "cell_type": "code",
   "execution_count": 3,
   "id": "ea13244e-1a06-4823-a7b5-400c884d0ed4",
   "metadata": {},
   "outputs": [],
   "source": [
    "def luckyLotteryNumber(lotterynum):\n",
    "    stringLotteryNum = str(lotterynum)\n",
    "    firstHalf = stringLotteryNum[:len(stringLotteryNum)//2]\n",
    "    secondHalf = stringLotteryNum[len(stringLotteryNum)//2:]\n",
    "    firstHalfList = list(map(int, list(firstHalf)))\n",
    "    secondHalfList = list(map(int, list(secondHalf)))\n",
    "    isLucky = sum(firstHalfList) == sum(secondHalfList)\n",
    "    print(isLucky)"
   ]
  },
  {
   "cell_type": "code",
   "execution_count": 10,
   "id": "71d03ad1-8824-4f81-b128-b5c60701e90e",
   "metadata": {},
   "outputs": [
    {
     "name": "stdout",
     "output_type": "stream",
     "text": [
      "True\n"
     ]
    }
   ],
   "source": [
    "luckyLotteryNumber(116332)"
   ]
  },
  {
   "cell_type": "code",
   "execution_count": null,
   "id": "dbecac90-9e95-4004-9220-33f914a70623",
   "metadata": {},
   "outputs": [],
   "source": []
  }
 ],
 "metadata": {
  "kernelspec": {
   "display_name": "Python 3",
   "language": "python",
   "name": "python3"
  },
  "language_info": {
   "codemirror_mode": {
    "name": "ipython",
    "version": 3
   },
   "file_extension": ".py",
   "mimetype": "text/x-python",
   "name": "python",
   "nbconvert_exporter": "python",
   "pygments_lexer": "ipython3",
   "version": "3.8.8"
  }
 },
 "nbformat": 4,
 "nbformat_minor": 5
}
