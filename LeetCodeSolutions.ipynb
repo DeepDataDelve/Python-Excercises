{
 "cells": [
  {
   "cell_type": "code",
   "execution_count": 12,
   "id": "512d1db5-d925-49c2-b873-4f1ec46b68f3",
   "metadata": {},
   "outputs": [],
   "source": [
    "def searchPivotArray(nums, target):\n",
    "    l, r = 0, len(nums) -1\n",
    "    \n",
    "    while l <= r:\n",
    "        mid = (l+r)//2\n",
    "        if target == nums[mid]:\n",
    "            return mid\n",
    "        \n",
    "        #left side of the array\n",
    "        if nums[mid] >= nums[l]:\n",
    "            if target > nums[mid] or target < nums[l]:\n",
    "                l = mid + 1\n",
    "            else:\n",
    "                r = mid - 1\n",
    "        #right sorted portion\n",
    "        else:\n",
    "            if target < nums[mid] or target > nums[r]:\n",
    "                r = mid -1\n",
    "            else:\n",
    "                l = mid + 1\n",
    "                \n",
    "    return -1"
   ]
  },
  {
   "cell_type": "code",
   "execution_count": 11,
   "id": "983e92d9-fe25-4932-9fa5-2eec4dcf6c58",
   "metadata": {},
   "outputs": [
    {
     "data": {
      "text/plain": [
       "5"
      ]
     },
     "execution_count": 11,
     "metadata": {},
     "output_type": "execute_result"
    }
   ],
   "source": [
    "searchPivotArray([4,6,7,0,1,2,3], 2)"
   ]
  },
  {
   "cell_type": "code",
   "execution_count": 33,
   "id": "e7b8ac69-9472-45c2-a2fe-7056bbc658bd",
   "metadata": {},
   "outputs": [],
   "source": [
    "def coinChange(coins, amount):\n",
    "    dp = [amount + 1] * (amount + 1)\n",
    "    dp[0] = 0\n",
    "    \n",
    "    for a in range(1, amount + 1):\n",
    "        for c in coins:\n",
    "            if a - c >= 0:\n",
    "                dp[a] = min(dp[a], 1 + dp[a-c])\n",
    "        print(\"the min amount of coins needed for amount \"+ str(a) + \" \" + str(dp[a]))\n",
    "    return dp[amount] if dp[amount] != amount + 1 else -1"
   ]
  },
  {
   "cell_type": "code",
   "execution_count": 34,
   "id": "adb3722c-a77d-4373-b488-a9e5633c197a",
   "metadata": {},
   "outputs": [
    {
     "name": "stdout",
     "output_type": "stream",
     "text": [
      "the min amount of coins needed for amount 1 1\n",
      "the min amount of coins needed for amount 2 2\n",
      "the min amount of coins needed for amount 3 1\n",
      "the min amount of coins needed for amount 4 1\n",
      "the min amount of coins needed for amount 5 1\n",
      "the min amount of coins needed for amount 6 2\n",
      "the min amount of coins needed for amount 7 2\n"
     ]
    },
    {
     "data": {
      "text/plain": [
       "2"
      ]
     },
     "execution_count": 34,
     "metadata": {},
     "output_type": "execute_result"
    }
   ],
   "source": [
    "coinChange([1,3,4,5], 7)"
   ]
  },
  {
   "cell_type": "code",
   "execution_count": 35,
   "id": "b14808c9-83c1-4b86-bd33-2e69ada32ec7",
   "metadata": {},
   "outputs": [
    {
     "name": "stdout",
     "output_type": "stream",
     "text": [
      "the min amount of coins needed for amount 1 31\n",
      "the min amount of coins needed for amount 2 31\n",
      "the min amount of coins needed for amount 3 31\n",
      "the min amount of coins needed for amount 4 31\n",
      "the min amount of coins needed for amount 5 1\n",
      "the min amount of coins needed for amount 6 31\n",
      "the min amount of coins needed for amount 7 31\n",
      "the min amount of coins needed for amount 8 31\n",
      "the min amount of coins needed for amount 9 31\n",
      "the min amount of coins needed for amount 10 1\n",
      "the min amount of coins needed for amount 11 31\n",
      "the min amount of coins needed for amount 12 31\n",
      "the min amount of coins needed for amount 13 31\n",
      "the min amount of coins needed for amount 14 31\n",
      "the min amount of coins needed for amount 15 2\n",
      "the min amount of coins needed for amount 16 31\n",
      "the min amount of coins needed for amount 17 31\n",
      "the min amount of coins needed for amount 18 31\n",
      "the min amount of coins needed for amount 19 31\n",
      "the min amount of coins needed for amount 20 2\n",
      "the min amount of coins needed for amount 21 31\n",
      "the min amount of coins needed for amount 22 31\n",
      "the min amount of coins needed for amount 23 31\n",
      "the min amount of coins needed for amount 24 31\n",
      "the min amount of coins needed for amount 25 1\n",
      "the min amount of coins needed for amount 26 31\n",
      "the min amount of coins needed for amount 27 31\n",
      "the min amount of coins needed for amount 28 31\n",
      "the min amount of coins needed for amount 29 31\n",
      "the min amount of coins needed for amount 30 2\n"
     ]
    },
    {
     "data": {
      "text/plain": [
       "2"
      ]
     },
     "execution_count": 35,
     "metadata": {},
     "output_type": "execute_result"
    }
   ],
   "source": [
    "coinChange([5,10,25], 30)"
   ]
  },
  {
   "cell_type": "code",
   "execution_count": 21,
   "id": "aaf70b93-d32d-4bf8-8a12-4190c55517f4",
   "metadata": {},
   "outputs": [],
   "source": [
    "def numWaysCanBeDecoded(inputStr):\n",
    "    ways = { len(inputStr) : 1 }\n",
    "    \n",
    "    def nextNum(i):\n",
    "        if i in ways:\n",
    "            return ways[i]\n",
    "        if inputStr[i] == \"0\":\n",
    "            return 0\n",
    "        \n",
    "        result = nextNum(i + 1)\n",
    "        print (\"result after 1 step: \" + str(result))\n",
    "        if( i+1 < len(inputStr) and (inputStr[i] == \"1\" or (inputStr[i] == \"2\" and inputStr[i+1] in \"0123456\"))):\n",
    "            result += nextNum(i + 2)\n",
    "            print (\"result after 2 steps: \" + str(result))\n",
    "        ways[i] = result\n",
    "        print(\"current ways contain: \" + str(ways))\n",
    "        return result\n",
    "    return nextNum(0)"
   ]
  },
  {
   "cell_type": "code",
   "execution_count": 24,
   "id": "ad5848af-48fb-4a44-b9e2-eef265a4a148",
   "metadata": {},
   "outputs": [
    {
     "name": "stdout",
     "output_type": "stream",
     "text": [
      "result after 1 step: 1\n",
      "current ways contain: {3: 1, 2: 1}\n",
      "result after 1 step: 1\n",
      "result after 2 steps: 2\n",
      "current ways contain: {3: 1, 2: 1, 1: 2}\n",
      "result after 1 step: 2\n",
      "result after 2 steps: 3\n",
      "current ways contain: {3: 1, 2: 1, 1: 2, 0: 3}\n"
     ]
    },
    {
     "data": {
      "text/plain": [
       "3"
      ]
     },
     "execution_count": 24,
     "metadata": {},
     "output_type": "execute_result"
    }
   ],
   "source": [
    "numWaysCanBeDecoded(\"123\")"
   ]
  },
  {
   "cell_type": "code",
   "execution_count": 48,
   "id": "9c1efbc7-1334-4048-8250-791f260cdcac",
   "metadata": {},
   "outputs": [],
   "source": [
    "def pacificAtlantic(heights): #(self, heights: List[List[int]]) -> List[List[int]]:\n",
    "    ROWS, COLS = len(heights), len(heights[0])\n",
    "    pacific, atlantic = set(), set()\n",
    "    \n",
    "    def trackPossibleCoordinates(row, column, visited, prevHeight):\n",
    "        if((row, column) in visited or row < 0 or column < 0 or row == ROWS or column == COLS\n",
    "           or heights[row][column] < prevHeight):\n",
    "            return\n",
    "        visited.add((row, column))\n",
    "        trackPossibleCoordinates(row + 1, column, visited, heights[row][column])\n",
    "        trackPossibleCoordinates(row - 1, column, visited, heights[row][column])\n",
    "        trackPossibleCoordinates(row, column + 1, visited, heights[row][column])\n",
    "        trackPossibleCoordinates(row, column - 1, visited, heights[row][column])\n",
    "        \n",
    "    for c in range(COLS):\n",
    "        trackPossibleCoordinates(0, c, pacific, heights[0][c])\n",
    "        trackPossibleCoordinates(ROWS-1, c, atlantic, heights[ROWS-1][0])\n",
    "        \n",
    "    for r in range(ROWS):\n",
    "        trackPossibleCoordinates(r, 0, pacific, heights[r][0])\n",
    "        trackPossibleCoordinates(r, COLS-1, atlantic, heights[r][COLS-1])\n",
    "        \n",
    "    result = []\n",
    "    for r in range(ROWS):\n",
    "        for c in range(COLS):\n",
    "            if (r, c) in atlantic and (r, c) in pacific:\n",
    "                result.append((r, c))\n",
    "    return result"
   ]
  },
  {
   "cell_type": "code",
   "execution_count": 49,
   "id": "dec75da2-c956-493e-a7ac-3cfafac0c2bf",
   "metadata": {},
   "outputs": [
    {
     "data": {
      "text/plain": [
       "[(0, 4), (1, 3), (1, 4), (2, 2), (3, 0), (3, 1), (4, 0)]"
      ]
     },
     "execution_count": 49,
     "metadata": {},
     "output_type": "execute_result"
    }
   ],
   "source": [
    "heights = [[1,2,2,3,5],[3,2,3,4,4],[2,4,5,3,1],[6,7,1,4,5],[5,1,1,2,4]]\n",
    "pacificAtlantic(heights)"
   ]
  },
  {
   "cell_type": "code",
   "execution_count": 14,
   "id": "a9961a0d-f27c-4f41-8682-51e329914b62",
   "metadata": {},
   "outputs": [],
   "source": [
    "def meetingRoomsNeeded(intervals):\n",
    "    startTimes = []\n",
    "    endTimes = []\n",
    "    for a, b in intervals:\n",
    "        startTimes.append(a)\n",
    "        endTimes.append(b)\n",
    "    startTimes.sort()\n",
    "    endTimes.sort()\n",
    "    print(startTimes)\n",
    "    print(endTimes)\n",
    "    result, roomCount = 0, 0\n",
    "    s, e = 0, 0\n",
    "    while s < len(intervals):\n",
    "        print(startTimes[s], endTimes[e])\n",
    "        if startTimes[s] < endTimes[e]:\n",
    "            s += 1\n",
    "            roomCount += 1\n",
    "        else:\n",
    "            e += 1\n",
    "            roomCount -= 1\n",
    "        result = max(result, roomCount)\n",
    "        print(roomCount)\n",
    "    return result"
   ]
  },
  {
   "cell_type": "code",
   "execution_count": 15,
   "id": "f0f52728-b267-4aba-b235-dee8c8ebac47",
   "metadata": {},
   "outputs": [],
   "source": [
    "pairs = [(0, 10), (0, 30), (10, 15), (20, 30)]"
   ]
  },
  {
   "cell_type": "code",
   "execution_count": 16,
   "id": "1abac698-ea55-47a7-a129-d86389d1890c",
   "metadata": {},
   "outputs": [
    {
     "name": "stdout",
     "output_type": "stream",
     "text": [
      "[0, 0, 10, 20]\n",
      "[10, 15, 30, 30]\n",
      "0 10\n",
      "1\n",
      "0 10\n",
      "2\n",
      "10 10\n",
      "1\n",
      "10 15\n",
      "2\n",
      "20 15\n",
      "1\n",
      "20 30\n",
      "2\n"
     ]
    },
    {
     "data": {
      "text/plain": [
       "2"
      ]
     },
     "execution_count": 16,
     "metadata": {},
     "output_type": "execute_result"
    }
   ],
   "source": [
    "meetingRoomsNeeded(pairs)"
   ]
  },
  {
   "cell_type": "code",
   "execution_count": 15,
   "id": "047154a0-d62d-439d-9a11-3a2081029bc8",
   "metadata": {},
   "outputs": [],
   "source": [
    "def cloneGraph(node):\n",
    "    oldToNew = {} #hash map to hold old node to cloned node\n",
    "    \n",
    "    def cloneNode(node):\n",
    "        if node in oldToNew:\n",
    "            return oldToNew[node]\n",
    "        \n",
    "        copy = node.val\n",
    "        oldToNew[node] = copy\n",
    "        for neighbor in node.neighbors: #for each neighbor, add a copy into the cloned node recursively\n",
    "            copy.neighbors.append(cloneNode(neighbor))\n",
    "        return copy\n",
    "    return cloneNode(node)"
   ]
  },
  {
   "cell_type": "code",
   "execution_count": 14,
   "id": "49194c27-6e88-4e05-8b97-a31bd7304598",
   "metadata": {},
   "outputs": [
    {
     "name": "stdout",
     "output_type": "stream",
     "text": [
      "[1, 2, 4]\n"
     ]
    }
   ],
   "source": [
    "numArr = [1, 2, 3, 4]\n",
    "otherNums = numArr[:2] + numArr[2+1:]\n",
    "print(otherNums)"
   ]
  },
  {
   "cell_type": "code",
   "execution_count": 6,
   "id": "0750e97a-f818-464c-b40b-ce55e1328f90",
   "metadata": {},
   "outputs": [
    {
     "name": "stdout",
     "output_type": "stream",
     "text": [
      "['Italy', 'Germany', 'France']\n"
     ]
    }
   ],
   "source": [
    "countries = ['Italy', 'United Kingdom', 'Germany', 'United States', 'France']\n",
    "print(countries[::2])"
   ]
  },
  {
   "cell_type": "code",
   "execution_count": 10,
   "id": "66ea18ec-ba61-409b-b7a7-595c5c9240e4",
   "metadata": {},
   "outputs": [
    {
     "name": "stdout",
     "output_type": "stream",
     "text": [
      "[50, 20, 50]\n"
     ]
    }
   ],
   "source": [
    "# Initialize list\n",
    "Lst = [50, 70, 30, 20, 90, 10, 50]\n",
    " \n",
    "# Display list\n",
    "print(Lst[::3])"
   ]
  },
  {
   "cell_type": "code",
   "execution_count": 84,
   "id": "942e9793-5081-4d64-9eaf-a602e2fae85c",
   "metadata": {},
   "outputs": [],
   "source": [
    "def productExceptSelf(nums):\n",
    "    res = []\n",
    "    for i in range(len(nums)):\n",
    "        otherNums = nums[:i] + nums[i+1:]\n",
    "        print(otherNums)\n",
    "        def doMultiplication(arr):\n",
    "            product = 1\n",
    "            for x in arr:\n",
    "                product = product * x\n",
    "                print(product)\n",
    "                if x==0:\n",
    "                    return 0\n",
    "            return product\n",
    "        res.append(doMultiplication(otherNums))\n",
    "    return res"
   ]
  },
  {
   "cell_type": "code",
   "execution_count": 85,
   "id": "9837d0c3-b7d0-4e66-b554-0cebc60177c4",
   "metadata": {},
   "outputs": [
    {
     "name": "stdout",
     "output_type": "stream",
     "text": [
      "[2, 3, 4]\n",
      "2\n",
      "6\n",
      "24\n",
      "[1, 3, 4]\n",
      "1\n",
      "3\n",
      "12\n",
      "[1, 2, 4]\n",
      "1\n",
      "2\n",
      "8\n",
      "[1, 2, 3]\n",
      "1\n",
      "2\n",
      "6\n"
     ]
    },
    {
     "data": {
      "text/plain": [
       "[24, 12, 8, 6]"
      ]
     },
     "execution_count": 85,
     "metadata": {},
     "output_type": "execute_result"
    }
   ],
   "source": [
    "productExceptSelf([1,2,3,4])"
   ]
  },
  {
   "cell_type": "code",
   "execution_count": 30,
   "id": "0a5f6f8a-7762-46d6-965b-1869db9bda63",
   "metadata": {},
   "outputs": [],
   "source": [
    "def productExceptSelfFast(nums):\n",
    "    res = [1] * len(nums)\n",
    "    prefix, postfix = 1, 1\n",
    "    for i in range(len(nums)):\n",
    "        res[i] = prefix\n",
    "        prefix *= nums[i]\n",
    "    print(res)\n",
    "    for j in range(len(nums) -1, -1, -1):\n",
    "        res[j] *= postfix\n",
    "        postfix = postfix * nums[j]\n",
    "    print(res)\n",
    "    return res"
   ]
  },
  {
   "cell_type": "code",
   "execution_count": 37,
   "id": "3a974c1f-c874-4dd6-8a50-3c3e0b780134",
   "metadata": {},
   "outputs": [
    {
     "name": "stdout",
     "output_type": "stream",
     "text": [
      "[1, 3, 15, 30]\n",
      "[40, 24, 60, 30]\n"
     ]
    },
    {
     "data": {
      "text/plain": [
       "[40, 24, 60, 30]"
      ]
     },
     "execution_count": 37,
     "metadata": {},
     "output_type": "execute_result"
    }
   ],
   "source": [
    "productExceptSelfFast([3,5,2,4])"
   ]
  },
  {
   "cell_type": "code",
   "execution_count": 62,
   "id": "3a73f6c1-3f0f-45b2-8b2c-2eb2267c050e",
   "metadata": {},
   "outputs": [],
   "source": [
    "def climbStairs(n):\n",
    "    numWays = [0] * (n+1)\n",
    "    numWays[0] = 1\n",
    "    numWays[1] = 1\n",
    "    if n == 1 or n == 0:\n",
    "        return 1\n",
    "    for i in range(2, n+1):\n",
    "        numWays[i] = numWays[i-1] + numWays[i-2]\n",
    "        print(numWays)\n",
    "    return numWays[n]"
   ]
  },
  {
   "cell_type": "code",
   "execution_count": 104,
   "id": "47956e47-f4c7-4c95-b5d8-9c83858f2fdb",
   "metadata": {},
   "outputs": [
    {
     "name": "stdout",
     "output_type": "stream",
     "text": [
      "[1, 1, 2, 0, 0, 0, 0, 0, 0, 0, 0]\n",
      "[1, 1, 2, 3, 0, 0, 0, 0, 0, 0, 0]\n",
      "[1, 1, 2, 3, 5, 0, 0, 0, 0, 0, 0]\n",
      "[1, 1, 2, 3, 5, 8, 0, 0, 0, 0, 0]\n",
      "[1, 1, 2, 3, 5, 8, 13, 0, 0, 0, 0]\n",
      "[1, 1, 2, 3, 5, 8, 13, 21, 0, 0, 0]\n",
      "[1, 1, 2, 3, 5, 8, 13, 21, 34, 0, 0]\n",
      "[1, 1, 2, 3, 5, 8, 13, 21, 34, 55, 0]\n",
      "[1, 1, 2, 3, 5, 8, 13, 21, 34, 55, 89]\n"
     ]
    },
    {
     "data": {
      "text/plain": [
       "89"
      ]
     },
     "execution_count": 104,
     "metadata": {},
     "output_type": "execute_result"
    }
   ],
   "source": [
    "climbStairs(10)"
   ]
  },
  {
   "cell_type": "code",
   "execution_count": 59,
   "id": "73128308-95ec-4aeb-a2c4-ce6781146bcc",
   "metadata": {},
   "outputs": [],
   "source": [
    "def climbStairs_X(n, x):\n",
    "    def num_ways(n):\n",
    "        if n == 0 or n==1: return 1\n",
    "        total=0\n",
    "        for i in x:\n",
    "            if n-i >= 0: \n",
    "                total += num_ways(n-i)\n",
    "        return total\n",
    "    res = num_ways(n)\n",
    "    return res"
   ]
  },
  {
   "cell_type": "code",
   "execution_count": 107,
   "id": "e1e392cb-a6a7-4a23-a372-09cd2990b105",
   "metadata": {},
   "outputs": [
    {
     "data": {
      "text/plain": [
       "47"
      ]
     },
     "execution_count": 107,
     "metadata": {},
     "output_type": "execute_result"
    }
   ],
   "source": [
    "climbStairs_X(10, [1,3, 5])"
   ]
  },
  {
   "cell_type": "code",
   "execution_count": 108,
   "id": "8ec5097a-00ff-4877-b96d-aa54bf5c136c",
   "metadata": {},
   "outputs": [],
   "source": [
    "def climbStairsX_BU(n, steps):\n",
    "    num_ways = [0] * (n+1)\n",
    "    num_ways[0] = 1\n",
    "    if n == 0: \n",
    "        return 1\n",
    "    for i in range(1, n+1):\n",
    "        total=0\n",
    "        for j in steps:\n",
    "            if i-j >= 0: \n",
    "                total += num_ways[i-j]\n",
    "        num_ways[i] = total\n",
    "    res = num_ways[n]\n",
    "    return res"
   ]
  },
  {
   "cell_type": "code",
   "execution_count": 111,
   "id": "231d9441-ee36-478a-875b-3fc6b07521c7",
   "metadata": {},
   "outputs": [
    {
     "data": {
      "text/plain": [
       "1"
      ]
     },
     "execution_count": 111,
     "metadata": {},
     "output_type": "execute_result"
    }
   ],
   "source": [
    "climbStairsX_BU(4, [2, 3, 5])"
   ]
  },
  {
   "cell_type": "code",
   "execution_count": 76,
   "id": "57b016dd-5d62-4802-b795-00762a656a42",
   "metadata": {},
   "outputs": [],
   "source": [
    "def minStrWindow(input, target):\n",
    "    countT, charCount = {}, {}\n",
    "    res = ''\n",
    "    for c in target:\n",
    "        countT[c] = 1 + countT.get(c, 0) #if c has never been added, we can just set the value to 1\n",
    "    \n",
    "    have, need = 0, len(countT)\n",
    "    lp = 0\n",
    "    print(countT)\n",
    "    \n",
    "    for rp in range(len(input)):\n",
    "        currentChar = input[rp]\n",
    "        charCount[currentChar] = 1 + charCount.get(currentChar, 0) #.get returns amount of the char stored in hashmap\n",
    "        print(str(charCount[currentChar]) + \" \" + currentChar)\n",
    "        if currentChar in countT and charCount[currentChar] == countT[currentChar]:\n",
    "            have += 1\n",
    "            if len(input) == 1:\n",
    "                res = currentChar\n",
    "                break\n",
    "        while need == have:\n",
    "            substring = input[lp:rp+1]\n",
    "            print(substring)\n",
    "            if len(substring) < len(res) or len(res) == 0:\n",
    "                res = substring\n",
    "            charToRemove = input[lp]\n",
    "            if charCount.get(charToRemove) > 0:\n",
    "                charCount[charToRemove] -= 1\n",
    "            if charToRemove in countT and charCount.get(charToRemove) < countT[charToRemove]:\n",
    "                have -= 1\n",
    "            lp += 1\n",
    "    return res"
   ]
  },
  {
   "cell_type": "code",
   "execution_count": 77,
   "id": "e1d9de83-a168-4ccd-a812-d2e12d5acd33",
   "metadata": {},
   "outputs": [
    {
     "name": "stdout",
     "output_type": "stream",
     "text": [
      "{'g': 1, 'o': 1, 'd': 1}\n",
      "1 g\n",
      "1 o\n",
      "2 o\n",
      "1 d\n",
      "good\n",
      "1 g\n",
      "oodg\n",
      "odg\n",
      "1 l\n",
      "1 a\n",
      "1 s\n",
      "2 s\n",
      "1 o\n",
      "dglasso\n",
      "1 f\n",
      "1 d\n",
      "glassofd\n",
      "2 o\n",
      "1 g\n",
      "lassofdog\n",
      "assofdog\n",
      "ssofdog\n",
      "sofdog\n",
      "ofdog\n",
      "fdog\n",
      "dog\n"
     ]
    },
    {
     "data": {
      "text/plain": [
       "'odg'"
      ]
     },
     "execution_count": 77,
     "metadata": {},
     "output_type": "execute_result"
    }
   ],
   "source": [
    "minStrWindow('goodglassofdog', 'god')"
   ]
  },
  {
   "cell_type": "code",
   "execution_count": 78,
   "id": "c4f02520-3c6d-41d7-ab32-b686a02ad823",
   "metadata": {},
   "outputs": [
    {
     "name": "stdout",
     "output_type": "stream",
     "text": [
      "{'b': 1}\n",
      "1 a\n",
      "1 b\n",
      "ab\n",
      "b\n"
     ]
    },
    {
     "data": {
      "text/plain": [
       "'b'"
      ]
     },
     "execution_count": 78,
     "metadata": {},
     "output_type": "execute_result"
    }
   ],
   "source": [
    "minStrWindow('ab', 'b')"
   ]
  },
  {
   "cell_type": "code",
   "execution_count": 79,
   "id": "cabb481b-37ba-4bef-8cca-47274a11b40f",
   "metadata": {},
   "outputs": [
    {
     "name": "stdout",
     "output_type": "stream",
     "text": [
      "{'b': 1}\n",
      "1 a\n"
     ]
    },
    {
     "data": {
      "text/plain": [
       "''"
      ]
     },
     "execution_count": 79,
     "metadata": {},
     "output_type": "execute_result"
    }
   ],
   "source": [
    "minStrWindow('a', 'b')"
   ]
  },
  {
   "cell_type": "code",
   "execution_count": 81,
   "id": "4696f89f-fe96-40b2-af28-22fe6a18afaf",
   "metadata": {},
   "outputs": [],
   "source": [
    "def existInBoard(board, word):\n",
    "    visited = set()\n",
    "    ROWS, COLS = len(board), len(board[0])\n",
    "\n",
    "    def searchBoard(row, col, letterIndex):\n",
    "        if letterIndex == len(word):\n",
    "            return True\n",
    "        if((row, col) in visited or row < 0 or col < 0 or row >= ROWS or col >= COLS or board[row][col] != word[letterIndex]):\n",
    "            return False\n",
    "        letterIndex += 1\n",
    "        visited.add((row, col))\n",
    "        res = (searchBoard(row + 1, col, letterIndex) or\n",
    "        searchBoard(row - 1, col, letterIndex) or\n",
    "        searchBoard(row, col + 1, letterIndex) or\n",
    "        searchBoard(row, col - 1, letterIndex))\n",
    "        visited.remove((row, col))\n",
    "        return res\n",
    "\n",
    "    for r in range(ROWS):\n",
    "        for c in range(COLS):\n",
    "            if(searchBoard(r, c, 0)): return True\n",
    "    return False"
   ]
  },
  {
   "cell_type": "code",
   "execution_count": 82,
   "id": "1c3e3787-47ab-43c0-a3e3-2216537f467d",
   "metadata": {},
   "outputs": [
    {
     "data": {
      "text/plain": [
       "False"
      ]
     },
     "execution_count": 82,
     "metadata": {},
     "output_type": "execute_result"
    }
   ],
   "source": [
    "existInBoard([[\"A\",\"A\",\"A\",\"A\",\"A\",\"A\"],[\"A\",\"A\",\"A\",\"A\",\"A\",\"A\"],[\"A\",\"A\",\"A\",\"A\",\"A\",\"A\"],[\"A\",\"A\",\"A\",\"A\",\"A\",\"A\"],[\"A\",\"A\",\"A\",\"A\",\"A\",\"A\"],[\"A\",\"A\",\"A\",\"A\",\"A\",\"A\"]],\n",
    "\"AAAAAAAAAAAABAA\")"
   ]
  },
  {
   "cell_type": "code",
   "execution_count": 83,
   "id": "64862bb3-c20a-40c7-8fdc-5b34f0f87adb",
   "metadata": {},
   "outputs": [
    {
     "data": {
      "text/plain": [
       "True"
      ]
     },
     "execution_count": 83,
     "metadata": {},
     "output_type": "execute_result"
    }
   ],
   "source": [
    "board = [[\"A\",\"B\",\"C\",\"E\"],[\"S\",\"F\",\"C\",\"S\"],[\"A\",\"D\",\"E\",\"E\"]] \n",
    "word = \"ABCCED\"\n",
    "existInBoard(board, word)"
   ]
  },
  {
   "cell_type": "code",
   "execution_count": null,
   "id": "f0eb4cfd-a5af-492c-8a7b-4d66cc8e1b85",
   "metadata": {},
   "outputs": [],
   "source": []
  }
 ],
 "metadata": {
  "kernelspec": {
   "display_name": "Python 3",
   "language": "python",
   "name": "python3"
  },
  "language_info": {
   "codemirror_mode": {
    "name": "ipython",
    "version": 3
   },
   "file_extension": ".py",
   "mimetype": "text/x-python",
   "name": "python",
   "nbconvert_exporter": "python",
   "pygments_lexer": "ipython3",
   "version": "3.8.8"
  }
 },
 "nbformat": 4,
 "nbformat_minor": 5
}
