{
 "cells": [
  {
   "cell_type": "code",
   "execution_count": 4,
   "id": "3f82de37-978a-4f51-9a4c-5ebaac5b7ca6",
   "metadata": {},
   "outputs": [],
   "source": [
    "def existInBoard(board, word):\n",
    "    visited = set()\n",
    "    ROWS, COLS = len(board), len(board[0])\n",
    "    \n",
    "    def searchBoard(row, col, letterIndex):\n",
    "        if((row, col) in visited or row < 0 or col < 0 or row >= ROWS or col >= COLS or board[row][col] != word[letterIndex]):\n",
    "                return False\n",
    "        #print(row, col)\n",
    "        letterToFind = word[letterIndex]\n",
    "        if board[row][col] == letterToFind:\n",
    "            #print(letterToFind, letterIndex)\n",
    "            if letterIndex == len(word)-1:\n",
    "                #print(\"Done\")\n",
    "                return True\n",
    "            else:\n",
    "                letterIndex += 1\n",
    "                visited.add((row, col))\n",
    "                res = (searchBoard(row + 1, col, letterIndex) or\n",
    "                searchBoard(row - 1, col, letterIndex) or\n",
    "                searchBoard(row, col + 1, letterIndex) or\n",
    "                searchBoard(row, col - 1, letterIndex))\n",
    "                visited.remove((row, col))\n",
    "                return res\n",
    "\n",
    "    for r in range(ROWS):\n",
    "        for c in range(COLS):\n",
    "            if(searchBoard(r, c, 0)): return True\n",
    "    return False"
   ]
  },
  {
   "cell_type": "code",
   "execution_count": 5,
   "id": "dd08a7db-0320-4a70-b539-9e346474165c",
   "metadata": {},
   "outputs": [
    {
     "data": {
      "text/plain": [
       "True"
      ]
     },
     "execution_count": 5,
     "metadata": {},
     "output_type": "execute_result"
    }
   ],
   "source": [
    "board = [[\"A\",\"B\",\"C\",\"E\"],[\"S\",\"F\",\"C\",\"S\"],[\"A\",\"D\",\"E\",\"E\"]] \n",
    "word = \"ABCCED\"\n",
    "existInBoard(board, word)"
   ]
  },
  {
   "cell_type": "code",
   "execution_count": 6,
   "id": "d4f8e1e7-a7cd-4f40-bb2e-bf6dffe5fad1",
   "metadata": {},
   "outputs": [
    {
     "data": {
      "text/plain": [
       "False"
      ]
     },
     "execution_count": 6,
     "metadata": {},
     "output_type": "execute_result"
    }
   ],
   "source": [
    "existInBoard([[\"A\",\"A\",\"A\",\"A\",\"A\",\"A\"],[\"A\",\"A\",\"A\",\"A\",\"A\",\"A\"],[\"A\",\"A\",\"A\",\"A\",\"A\",\"A\"],[\"A\",\"A\",\"A\",\"A\",\"A\",\"A\"],[\"A\",\"A\",\"A\",\"A\",\"A\",\"A\"],[\"A\",\"A\",\"A\",\"A\",\"A\",\"A\"]],\n",
    "\"AAAAAAAAAAAABAA\")"
   ]
  },
  {
   "cell_type": "code",
   "execution_count": 49,
   "id": "6dc3c4c7-0481-4ff8-8f87-eefbe7888a8b",
   "metadata": {},
   "outputs": [
    {
     "data": {
      "text/plain": [
       "{'key_1': (3, 'triangle'), 'key_2': (4, 'rectanble')}"
      ]
     },
     "execution_count": 49,
     "metadata": {},
     "output_type": "execute_result"
    }
   ],
   "source": [
    "nested_dict = { 'dictA': {'key_1': (3, 'triangle'), 'key_2': (4, 'rectanble')},\n",
    "                'dictB': { 3 : (4, 'square')}}\n",
    "\n",
    "nested_dict['dictA']"
   ]
  },
  {
   "cell_type": "code",
   "execution_count": 74,
   "id": "2a9d97a1-cf3a-499c-b68a-b9fce45945b2",
   "metadata": {},
   "outputs": [
    {
     "name": "stdout",
     "output_type": "stream",
     "text": [
      "triangle\n",
      "dictA\n",
      "key_1\n",
      "innermost layer: 3\n",
      "innermost layer: triangle\n",
      "key_2\n",
      "innermost layer: 4\n",
      "innermost layer: rectanble\n",
      "dictB\n",
      "3\n",
      "innermost layer: 4\n",
      "innermost layer: square\n"
     ]
    }
   ],
   "source": [
    "nested_dict['dictA'].get('key_1')[1]\n",
    "print(nested_dict[\"dictA\"][\"key_1\"][1])\n",
    "\n",
    "for i in nested_dict.keys():\n",
    "    print(i)\n",
    "    for j in nested_dict[i].keys():\n",
    "        print(j)\n",
    "        for k in nested_dict[i][j]:\n",
    "            print(\"innermost layer: \" + str(k))"
   ]
  },
  {
   "cell_type": "code",
   "execution_count": 18,
   "id": "8a841132-23db-4ac1-ba2d-12b4363c9eef",
   "metadata": {},
   "outputs": [
    {
     "data": {
      "text/plain": [
       "'square'"
      ]
     },
     "execution_count": 18,
     "metadata": {},
     "output_type": "execute_result"
    }
   ],
   "source": [
    "nested_dict['dictB'].get(3)[1]"
   ]
  },
  {
   "cell_type": "code",
   "execution_count": 21,
   "id": "34218687-f18b-4ad3-b476-850ea8193170",
   "metadata": {},
   "outputs": [
    {
     "data": {
      "text/plain": [
       "[(0, 'red'), (1, 'blue'), (2, 'green'), (3, 'yellow'), (4, 'orange')]"
      ]
     },
     "execution_count": 21,
     "metadata": {},
     "output_type": "execute_result"
    }
   ],
   "source": [
    "nestedTuples = []\n",
    "colors = ['red', 'blue', 'green', 'yellow', 'orange']\n",
    "\n",
    "for i in range(len(colors)):\n",
    "    nestedTuples.append((i, colors[i]))\n",
    "\n",
    "nestedTuples"
   ]
  },
  {
   "cell_type": "code",
   "execution_count": 26,
   "id": "0cd527e3-a9fa-4ad3-b462-14cb28fd1013",
   "metadata": {},
   "outputs": [
    {
     "data": {
      "text/plain": [
       "[(3, 'yellow'), (4, 'orange')]"
      ]
     },
     "execution_count": 26,
     "metadata": {},
     "output_type": "execute_result"
    }
   ],
   "source": [
    "list(filter(lambda x: x[0] > 2, nestedTuples))"
   ]
  },
  {
   "cell_type": "code",
   "execution_count": 36,
   "id": "151c6523-4d7a-4f7b-83d4-e1c5880e1a3a",
   "metadata": {},
   "outputs": [
    {
     "name": "stdout",
     "output_type": "stream",
     "text": [
      "[(0, 'red'), (2, 'green'), (4, 'orange')]\n",
      "red\n",
      "green\n",
      "orange\n"
     ]
    }
   ],
   "source": [
    "filteredList = list(filter(lambda x: 'r' in x[1], nestedTuples))\n",
    "print(filteredList)\n",
    "for i in range(len(filteredList)):\n",
    "    print(filteredList[i][1])"
   ]
  },
  {
   "cell_type": "code",
   "execution_count": 37,
   "id": "e2a49319-65c2-4ea0-8db1-664424251937",
   "metadata": {},
   "outputs": [
    {
     "name": "stdout",
     "output_type": "stream",
     "text": [
      "{'name': 'Luna', 'age': '24', 'sex': 'Female', 'married': 'No'}\n",
      "{'name': 'Kim', 'age': '26', 'sex': 'Female', 'Employed': True}\n"
     ]
    }
   ],
   "source": [
    "people = {1: {'name': 'John', 'age': '27', 'sex': 'Male'},\n",
    "          2: {'name': 'Marie', 'age': '22', 'sex': 'Female'}}\n",
    "#you can create a dictionary object to place inside of a dictionary\n",
    "people[3] = {}\n",
    "\n",
    "people[3]['name'] = 'Luna'\n",
    "people[3]['age'] = '24'\n",
    "people[3]['sex'] = 'Female'\n",
    "people[3]['married'] = 'No'\n",
    "\n",
    "people[4] = {'name': 'Kim', 'age': '26', 'sex': 'Female', 'Employed': True}\n",
    "\n",
    "print(people[3])\n",
    "print(people[4])"
   ]
  },
  {
   "cell_type": "code",
   "execution_count": 76,
   "id": "c9948948-fd7e-4bef-af88-467b1f409764",
   "metadata": {},
   "outputs": [
    {
     "name": "stdout",
     "output_type": "stream",
     "text": [
      "dictA\n",
      "key_1\n",
      "innermost layer - triangle\n",
      "key_2\n",
      "innermost layer - rectanble\n",
      "dictB\n",
      "3\n",
      "innermost layer - square\n"
     ]
    }
   ],
   "source": [
    "for i in nested_dict.keys():\n",
    "    print(i)\n",
    "    for j in nested_dict[i].keys():\n",
    "        print(j)\n",
    "        print(\"innermost layer - \" + nested_dict[i][j][1])"
   ]
  },
  {
   "cell_type": "code",
   "execution_count": 93,
   "id": "3d09e4a2-0aa5-494f-bd6d-ddbbd9a67ec5",
   "metadata": {},
   "outputs": [
    {
     "name": "stdout",
     "output_type": "stream",
     "text": [
      "dictA\n",
      "{'key_1': (3, 'triangle'), 'key_2': (4, 'rectanble')}\n",
      "(3, 'triangle')\n",
      "(4, 'rectanble')\n",
      "dictB\n",
      "{3: (4, 'square')}\n",
      "(4, 'square')\n"
     ]
    }
   ],
   "source": [
    "for d, v in nested_dict.items():\n",
    "    print(d)\n",
    "    print(v)\n",
    "    for i in v.values():\n",
    "        print(i) #tuples are immutable, however you can add them together, or convert to a list and change them, then convert back\n",
    "        y = list(i)"
   ]
  },
  {
   "cell_type": "code",
   "execution_count": 95,
   "id": "6376909b-e0c2-4ef1-bcfe-3078b3e0970e",
   "metadata": {},
   "outputs": [
    {
     "name": "stdout",
     "output_type": "stream",
     "text": [
      "('apple', 'banana', 'cherry', 'orange')\n"
     ]
    }
   ],
   "source": [
    "thistuple = (\"apple\", \"banana\", \"cherry\")\n",
    "y = list(thistuple)\n",
    "y.append(\"orange\")\n",
    "thistuple = tuple(y)\n",
    "print(thistuple)"
   ]
  },
  {
   "cell_type": "code",
   "execution_count": null,
   "id": "ce28412a-70f0-4570-ac27-88eb4fd48a3a",
   "metadata": {},
   "outputs": [],
   "source": []
  }
 ],
 "metadata": {
  "kernelspec": {
   "display_name": "Python 3",
   "language": "python",
   "name": "python3"
  },
  "language_info": {
   "codemirror_mode": {
    "name": "ipython",
    "version": 3
   },
   "file_extension": ".py",
   "mimetype": "text/x-python",
   "name": "python",
   "nbconvert_exporter": "python",
   "pygments_lexer": "ipython3",
   "version": "3.8.8"
  }
 },
 "nbformat": 4,
 "nbformat_minor": 5
}
