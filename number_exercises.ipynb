{
 "cells": [
  {
   "cell_type": "code",
   "execution_count": 21,
   "id": "8555da2f-21d4-4907-8c8b-1fd185f2dcee",
   "metadata": {},
   "outputs": [
    {
     "name": "stdout",
     "output_type": "stream",
     "text": [
      "[0, 1, 2, 3, 4, 7, 11, 12, 13, 14, 15, 16, 17]\n"
     ]
    }
   ],
   "source": [
    "numArr = [11, 7, 3, 4, 2, 1, 0, 12, 13, 14, 15, 16, 17]\n",
    "orderedList = sorted(list(numArr))\n",
    "print(orderedList)"
   ]
  },
  {
   "cell_type": "code",
   "execution_count": 31,
   "id": "6d2aee6e-6e70-4655-9488-27b9a82743b8",
   "metadata": {},
   "outputs": [
    {
     "name": "stdout",
     "output_type": "stream",
     "text": [
      "[0, 1, 2, 3, 4]\n",
      "[7]\n",
      "[11, 12, 13, 14, 15, 16, 17]\n",
      "done\n",
      "7\n",
      "[11, 17]\n"
     ]
    }
   ],
   "source": [
    "longest_sequence = 0\n",
    "seqArr = list()\n",
    "rangeArr = []\n",
    "n = len(orderedList)-1\n",
    "for i in range(n):\n",
    "    if not seqArr:\n",
    "        seqArr.append(orderedList[i])\n",
    "    if orderedList[i+1] == orderedList[i]+1:\n",
    "        seqArr.append(orderedList[i+1])\n",
    "    else:\n",
    "        if(len(seqArr) > longest_sequence):\n",
    "            longest_sequence = len(seqArr)\n",
    "        print(seqArr)\n",
    "        seqArr.clear()\n",
    "    if(len(seqArr) > longest_sequence):\n",
    "        longest_sequence = len(seqArr)\n",
    "        rangeArr = [seqArr[0], seqArr[len(seqArr)-1]]\n",
    "    if(i == n-1):\n",
    "        print(seqArr)\n",
    "        print(\"done\")\n",
    "print(longest_sequence)\n",
    "print(rangeArr)"
   ]
  },
  {
   "cell_type": "code",
   "execution_count": 32,
   "id": "59f64183-0d96-4e8b-b996-1c9b99ac1b3d",
   "metadata": {},
   "outputs": [],
   "source": [
    "def largestRange(array):\n",
    "    numbers = {x:0 for x in array}\n",
    "    left = right = 0\n",
    "    \n",
    "    for number in array:\n",
    "        if numbers[number] == 0:\n",
    "            left_count = number-1\n",
    "            right_count = number+1\n",
    "            \n",
    "            while left_count in numbers:\n",
    "                numbers[left_count] = 1\n",
    "                left_count -= 1\n",
    "            left_count += 1 #after we encounter a number that isn't -1 from the last, reset the count\n",
    "            while right_count in numbers:\n",
    "                numbers[right_count] = 1\n",
    "                right_count -= 1\n",
    "            right_count -= 1 #after we encounter a number that isn't +1 from the last, reset the count\n",
    "            \n",
    "            if (right-left) <= (right_count-left_count):\n",
    "                right = right_count\n",
    "                left = left_count\n",
    "    return [left, right]"
   ]
  },
  {
   "cell_type": "code",
   "execution_count": 33,
   "id": "2756b084-8190-4b25-882b-aa2969111b86",
   "metadata": {},
   "outputs": [
    {
     "data": {
      "text/plain": [
       "[11, 17]"
      ]
     },
     "execution_count": 33,
     "metadata": {},
     "output_type": "execute_result"
    }
   ],
   "source": [
    "largestRange(numArr)"
   ]
  },
  {
   "cell_type": "code",
   "execution_count": 36,
   "id": "5430e370-7612-4e86-a3e2-67aa3a5b662d",
   "metadata": {},
   "outputs": [
    {
     "data": {
      "text/plain": [
       "[1, 4, 9, 16, 25]"
      ]
     },
     "execution_count": 36,
     "metadata": {},
     "output_type": "execute_result"
    }
   ],
   "source": [
    "items = [1, 2, 3, 4, 5]\n",
    "squared = list(map(lambda x: x**2, items))\n",
    "squared"
   ]
  },
  {
   "cell_type": "code",
   "execution_count": 5,
   "id": "1b6e969d-ffdf-437b-a9b3-84db5b9a5928",
   "metadata": {},
   "outputs": [],
   "source": [
    "def maxProduct(nums):\n",
    "    result = max(nums)\n",
    "    curMin, curMax = 1, 1\n",
    "    \n",
    "    for n in nums:\n",
    "        if n == 0:\n",
    "            curMin, curMax = 1, 1\n",
    "            continue\n",
    "        oldMax = curMax\n",
    "        curMax = max(n * curMax, n * curMin, n)\n",
    "        curMin = min(oldMax * n, n * curMin, n)\n",
    "        print('the current max product for ' + str(n) + ' is ' + str(curMax))\n",
    "        print('the current minimum product for ' + str(n) + ' is ' + str(curMin))\n",
    "        result = max(result, curMax)\n",
    "    return result"
   ]
  },
  {
   "cell_type": "code",
   "execution_count": 7,
   "id": "7c21fdd4-3861-42a7-9e8e-799d372ff247",
   "metadata": {},
   "outputs": [
    {
     "name": "stdout",
     "output_type": "stream",
     "text": [
      "the current max product for 10 is 10\n",
      "the current minimum product for 10 is 10\n",
      "the current max product for -2 is -2\n",
      "the current minimum product for -2 is -20\n",
      "the current max product for 5 is 5\n",
      "the current minimum product for 5 is -100\n"
     ]
    },
    {
     "data": {
      "text/plain": [
       "10"
      ]
     },
     "execution_count": 7,
     "metadata": {},
     "output_type": "execute_result"
    }
   ],
   "source": [
    "maxProduct([10,-2,5])"
   ]
  },
  {
   "cell_type": "code",
   "execution_count": 1,
   "id": "f809f5ea-1e94-4e96-ad45-5c017a82ac4b",
   "metadata": {},
   "outputs": [],
   "source": [
    "def addDigits(n):\n",
    "    digits = [int(a) for a in str(n)]\n",
    "    sum = 0\n",
    "    for i in digits:\n",
    "        sum += i\n",
    "    return sum"
   ]
  },
  {
   "cell_type": "code",
   "execution_count": 2,
   "id": "4da55916-f207-4b86-b140-cc4a31656c79",
   "metadata": {},
   "outputs": [
    {
     "data": {
      "text/plain": [
       "9"
      ]
     },
     "execution_count": 2,
     "metadata": {},
     "output_type": "execute_result"
    }
   ],
   "source": [
    "addDigits(1233)"
   ]
  },
  {
   "cell_type": "code",
   "execution_count": 5,
   "id": "c45c35cd-12e3-42dd-b743-4af614a6b3ca",
   "metadata": {},
   "outputs": [],
   "source": [
    "def longestIncreasingSeq(nums):\n",
    "    LIS = [1] * len(nums)\n",
    "    \n",
    "    for i in range(len(nums) -1, -1, -1):\n",
    "        for j in range(i +1, len(nums)): #get next number and check if it's greater than our current number\n",
    "            if nums[i] < nums[j]:\n",
    "                LIS[i] = max(LIS[i], 1 + LIS[j])\n",
    "    return max(LIS)"
   ]
  },
  {
   "cell_type": "code",
   "execution_count": 9,
   "id": "dd9e9e72-2880-48ed-ac7f-8b60dd089965",
   "metadata": {},
   "outputs": [
    {
     "data": {
      "text/plain": [
       "5"
      ]
     },
     "execution_count": 9,
     "metadata": {},
     "output_type": "execute_result"
    }
   ],
   "source": [
    "longestIncreasingSeq([9,2,0,3,4,5,7])"
   ]
  },
  {
   "cell_type": "code",
   "execution_count": null,
   "id": "a50944a6-20ce-4e4b-bb58-0543a8e600b4",
   "metadata": {},
   "outputs": [],
   "source": []
  }
 ],
 "metadata": {
  "kernelspec": {
   "display_name": "Python 3",
   "language": "python",
   "name": "python3"
  },
  "language_info": {
   "codemirror_mode": {
    "name": "ipython",
    "version": 3
   },
   "file_extension": ".py",
   "mimetype": "text/x-python",
   "name": "python",
   "nbconvert_exporter": "python",
   "pygments_lexer": "ipython3",
   "version": "3.8.8"
  }
 },
 "nbformat": 4,
 "nbformat_minor": 5
}
